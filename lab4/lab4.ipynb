{
  "nbformat": 4,
  "nbformat_minor": 0,
  "metadata": {
    "colab": {
      "name": "BPTT",
      "version": "0.3.2",
      "provenance": [],
      "collapsed_sections": []
    },
    "kernelspec": {
      "name": "python3",
      "display_name": "Python 3"
    }
  },
  "cells": [
    {
      "metadata": {
        "id": "3OZgFZdvcJ1i",
        "colab_type": "code",
        "colab": {}
      },
      "cell_type": "code",
      "source": [
        "import numpy as np"
      ],
      "execution_count": 0,
      "outputs": []
    },
    {
      "metadata": {
        "id": "1c3QJn4xe6Nj",
        "colab_type": "code",
        "colab": {}
      },
      "cell_type": "code",
      "source": [
        "#def np_bin(x):\n",
        "#  res = np.binary_repr(x, width=8)\n",
        "#  return np.array(list(res), dtype=int)\n",
        "\n",
        "def bin_to_str(x):\n",
        "  return ''.join(map(str, x.reshape(-1)))\n",
        "\n",
        "# d2b = np.unpackbits(np.arange(256, dtype=np.uint8).reshape(-1, 1), axis=1)\n",
        "d2b = np.flip(np.unpackbits(np.arange(256, dtype=np.uint8).reshape(-1, 1), axis=1), 1)"
      ],
      "execution_count": 0,
      "outputs": []
    },
    {
      "metadata": {
        "id": "8Mq48j5TdXgd",
        "colab_type": "code",
        "colab": {}
      },
      "cell_type": "code",
      "source": [
        "def derivative(f, *args):\n",
        "    return f(*args, derivative=True)\n",
        "\n",
        "def sigmoid(x, derivative=False):\n",
        "    if derivative:\n",
        "        return x * (1. - x)\n",
        "    return 1. / (1 + np.exp(-x))\n",
        "\n",
        "def mse(y_pred, y_true, derivative=False):\n",
        "    if derivative:\n",
        "        return y_pred - y_true\n",
        "    return np.sum((y_pred - y_true) ** 2) / 2"
      ],
      "execution_count": 0,
      "outputs": []
    },
    {
      "metadata": {
        "id": "_W_t373vdeNv",
        "colab_type": "code",
        "colab": {}
      },
      "cell_type": "code",
      "source": [
        "class BPTT:\n",
        "  def __init__(self, in_dim, h_dim, out_dim, loss=mse):\n",
        "    def init_weights(dim):\n",
        "      return np.random.uniform(-1, 1, dim)\n",
        "\n",
        "    self.loss = loss\n",
        "    self.h0 = h0 = np.zeros((h_dim, 1))\n",
        "    # trainable weights\n",
        "    self.U = init_weights((h_dim, in_dim))\n",
        "    self.W = init_weights((h_dim, h_dim))\n",
        "    self.b = np.zeros((h_dim, 1))\n",
        "    self.V = init_weights((out_dim, h_dim))\n",
        "    self.c = np.zeros((out_dim, 1))\n",
        "\n",
        "  def predict(self, X):\n",
        "    assert(X.shape[-1] == 1), 'X should be a column vector'\n",
        "\n",
        "    self.X, self.H, self.Y = X, [self.h0], []\n",
        "    for x in X:\n",
        "      ht = np.tanh(self.b + self.W @ self.H[-1] + self.U @ x)\n",
        "      yt = sigmoid(self.c + self.V @ ht)\n",
        "      self.H.append(ht)\n",
        "      self.Y.append(yt)\n",
        "    self.Y = np.array(self.Y)\n",
        "    return np.where(self.Y >= 0.5, 1, 0)\n",
        "\n",
        "  def update(self, Y_true, lr):\n",
        "    assert(Y_true.shape[-1] == 1), 'Y should be a column vector'\n",
        "\n",
        "    # \\dv{L}{o^(t)}\n",
        "    dLdot = derivative(self.loss, self.Y, Y_true) * derivative(sigmoid, self.Y)\n",
        "    # H^(t) = \\pdv{h^(t)}{a^(t)}\n",
        "    Ht = [np.diag(1 - h.reshape(-1) ** 2) for h in self.H[1:]]\n",
        "    # \\dv{L}{h^(t)}\n",
        "    T = Y_true.shape[0]\n",
        "    dLdht = [None] * T\n",
        "    dLdht[-1] = self.V.T @ dLdot[-1]\n",
        "    for t in reversed(range(0, T - 1)):\n",
        "      dLdht[t] = self.W.T @ Ht[t + 1] @ dLdht[t + 1] + self.V.T @ dLdot[t]\n",
        "    # \\dv{L}{a^(t)}\n",
        "    dLdat = [Ht_t @ dLdht_t for Ht_t, dLdht_t in zip(Ht, dLdht)]\n",
        "\n",
        "    # gradients\n",
        "    dLdc = np.sum(dLdot, axis=0)\n",
        "    dLdV = np.sum([dLdot_t * h_t.T for dLdot_t, h_t in zip(dLdot, self.H[1:])], axis=0)\n",
        "    dLdb = np.sum(dLdat, axis=0)\n",
        "    dLdW = np.sum([dLdat_t * h_t.T for dLdat_t, h_t in zip(dLdat, self.H[:-1])], axis=0)\n",
        "    dLdU = np.sum([dLdat_t * x_t.T for dLdat_t, x_t in zip(dLdat, self.X)], axis=0)\n",
        "\n",
        "    # update weights\n",
        "    self.U -= lr * dLdU\n",
        "    self.W -= lr * dLdW\n",
        "    self.b -= lr * dLdb\n",
        "    self.V -= lr * dLdV\n",
        "    self.c -= lr * dLdc\n",
        "\n",
        "    return self.loss(self.Y, Y_true)"
      ],
      "execution_count": 0,
      "outputs": []
    },
    {
      "metadata": {
        "id": "PXYs5w_IcZTU",
        "colab_type": "code",
        "outputId": "a75a0524-c023-4591-f3db-42d3efd4b877",
        "colab": {
          "base_uri": "https://localhost:8080/",
          "height": 204
        }
      },
      "cell_type": "code",
      "source": [
        "in_dim, h_dim, out_dim = 2, 16, 1\n",
        "net = BPTT(in_dim, h_dim, out_dim)\n",
        "lr = 0.1\n",
        "verbose = False\n",
        "\n",
        "total_acc = []\n",
        "for epoch in range(10001):\n",
        "  (x0,), (x1,) = np.random.randint(0, 128, size=(in_dim, 1))\n",
        "  X = np.array(list(zip(d2b[x0], d2b[x1]))).reshape(-1, in_dim, 1)\n",
        "  Y = d2b[x0 + x1].reshape(-1, out_dim, 1)\n",
        "  Y_pred = net.predict(X)\n",
        "  loss = net.update(Y, lr)\n",
        "  acc = int(np.all(Y_pred == Y))\n",
        "  total_acc.append(acc)\n",
        "  if epoch % 1000 == 0:\n",
        "    acc = np.mean(total_acc[-1000:])\n",
        "    print(f'[{epoch:5d}] loss: {loss:.2f}; avg acc: {acc:.2%}')\n",
        "  if verbose:\n",
        "    print('')\n",
        "    print(f'  {x0:3d}', bin_to_str(d2b[x0]))\n",
        "    print(f'+ {x1:3d}', bin_to_str(d2b[x1]))\n",
        "    print('=' * 5, '-' * 8)\n",
        "    print(f'  {x0 + x1:3d}', bin_to_str(d2b[x0 + x1]))\n",
        "    print('Ypred', bin_to_str(Y_pred))\n",
        "    print('-' * 20)"
      ],
      "execution_count": 5,
      "outputs": [
        {
          "output_type": "stream",
          "text": [
            "[    0] loss: 1.40; avg acc: 0.00%\n",
            "[ 1000] loss: 0.73; avg acc: 7.80%\n",
            "[ 2000] loss: 0.03; avg acc: 37.90%\n",
            "[ 3000] loss: 0.01; avg acc: 78.20%\n",
            "[ 4000] loss: 0.00; avg acc: 100.00%\n",
            "[ 5000] loss: 0.01; avg acc: 100.00%\n",
            "[ 6000] loss: 0.00; avg acc: 100.00%\n",
            "[ 7000] loss: 0.00; avg acc: 100.00%\n",
            "[ 8000] loss: 0.00; avg acc: 100.00%\n",
            "[ 9000] loss: 0.00; avg acc: 100.00%\n",
            "[10000] loss: 0.00; avg acc: 100.00%\n"
          ],
          "name": "stdout"
        }
      ]
    },
    {
      "metadata": {
        "id": "AKsoIwz0USbl",
        "colab_type": "code",
        "colab": {
          "base_uri": "https://localhost:8080/",
          "height": 301
        },
        "outputId": "fd15b8f1-b7c8-481e-e27d-757b1c292b4b"
      },
      "cell_type": "code",
      "source": [
        "import pandas as pd\n",
        "import seaborn as sns\n",
        "sns.set(style='ticks')\n",
        "\n",
        "X = list(range(0, 10001 - 100, 100))\n",
        "Y = [np.mean(total_acc[x:x+100]) for x in X]\n",
        "ax = sns.lineplot(x=\"epoch\", y=\"accuracy\", color='coral',\n",
        "             data=pd.DataFrame(data={'epoch': X, 'accuracy': Y}))\n",
        "sns.despine(offset=10, trim=True);"
      ],
      "execution_count": 6,
      "outputs": [
        {
          "output_type": "display_data",
          "data": {
            "image/png": "[encoded data removed]",
            "text/plain": [
              "<Figure size 432x288 with 1 Axes>"
            ]
          },
          "metadata": {
            "tags": []
          }
        }
      ]
    },
    {
      "metadata": {
        "id": "iWY4q-ZSbJy4",
        "colab_type": "code",
        "colab": {}
      },
      "cell_type": "code",
      "source": [
        ""
      ],
      "execution_count": 0,
      "outputs": []
    }
  ]
}